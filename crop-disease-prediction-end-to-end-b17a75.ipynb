{
 "cells": [
  {
   "cell_type": "markdown",
   "metadata": {},
   "source": [
    "## Setup"
   ]
  },
  {
   "cell_type": "code",
   "execution_count": 1,
   "metadata": {
    "execution": {
     "iopub.execute_input": "2023-03-31T08:30:59.996544Z",
     "iopub.status.busy": "2023-03-31T08:30:59.996077Z",
     "iopub.status.idle": "2023-03-31T08:31:12.517268Z",
     "shell.execute_reply": "2023-03-31T08:31:12.514801Z",
     "shell.execute_reply.started": "2023-03-31T08:30:59.996501Z"
    },
    "trusted": true
   },
   "outputs": [],
   "source": [
    "import tensorflow as tf\n",
    "from tensorflow import keras\n",
    "\n",
    "import matplotlib.pyplot as plt\n",
    "import numpy as np\n",
    "\n",
    "import os"
   ]
  },
  {
   "cell_type": "code",
   "execution_count": 2,
   "metadata": {
    "execution": {
     "iopub.execute_input": "2023-03-31T08:31:12.521946Z",
     "iopub.status.busy": "2023-03-31T08:31:12.520577Z",
     "iopub.status.idle": "2023-03-31T08:31:12.530545Z",
     "shell.execute_reply": "2023-03-31T08:31:12.528974Z",
     "shell.execute_reply.started": "2023-03-31T08:31:12.521867Z"
    },
    "trusted": true
   },
   "outputs": [],
   "source": [
    "image_size = 224\n",
    "target_size = (image_size, image_size)\n",
    "input_shape = (image_size, image_size, 3)\n",
    "\n",
    "batch_size = 32\n",
    "epochs = 25"
   ]
  },
  {
   "cell_type": "markdown",
   "metadata": {},
   "source": [
    "## Get data\n",
    "\n",
    "In order to make the most of our few training examples, we will \"augment\" them via a number of random transformations, so that our model would never see twice the exact same picture. This helps prevent overfitting and helps the model generalize better.\n",
    "\n",
    "In TensorFlow this can be done via the `tf.keras.preprocessing.image.ImageDataGenerator` class. This class allows you to:\n",
    "\n",
    "- configure random transformations and normalization operations to be done on your image data during training\n",
    "- instantiate generators of augmented image batches (and their labels) via `.flow(data, labels)` or `.flow_from_directory(directory)`. These generators can then be used with the `tf.keras` model methods that accept data generators as inputs, `fit`, `evaluate` and `predict`."
   ]
  },
  {
   "cell_type": "code",
   "execution_count": 3,
   "metadata": {
    "execution": {
     "iopub.execute_input": "2023-03-31T08:31:12.532836Z",
     "iopub.status.busy": "2023-03-31T08:31:12.532353Z",
     "iopub.status.idle": "2023-03-31T08:31:12.550743Z",
     "shell.execute_reply": "2023-03-31T08:31:12.549178Z",
     "shell.execute_reply.started": "2023-03-31T08:31:12.532791Z"
    },
    "trusted": true
   },
   "outputs": [],
   "source": [
    "base_dir = r\"crop_dataset\\\\Dataset\"\n",
    "train_dir = os.path.join(base_dir,\"train\")\n",
    "test_dir = os.path.join(base_dir,\"valid\")"
   ]
  },
  {
   "cell_type": "code",
   "execution_count": null,
   "metadata": {},
   "outputs": [],
   "source": []
  },
  {
   "cell_type": "markdown",
   "metadata": {},
   "source": [
    "# Identify Plant Diseases\n",
    "\n",
    "We use the PlantVillage dataset [1] by Hughes et al. consists of about 87,000 healthy and unhealthy leaf images divided into 38 categories by species and disease. Here we provide a subset of our experiments on working with this data. We also end up transfer learning from MobileNet and use the weights from pre-training on ImageNet.\n",
    "\n",
    "* ![PlantVillage Dataset Samples](https://i.imgur.com/Zcxdrlc.png)\n",
    "Figure 1. PlantVillage Dataset Samples\n",
    "\n",
    "## Classes\n",
    "\n",
    "The following 38 classes are availaible in the dataset\n",
    "\n",
    "- `Apple___Apple_scab` \n",
    "- `Apple___Black_rot` \n",
    "- `Apple___Cedar_apple_rust` \n",
    "- `Apple___healthy` \n",
    "- `Blueberry___healthy` \n",
    "- `Cherry_(including_sour)___Powdery_mildew` \n",
    "- `Cherry_(including_sour)___healthy` \n",
    "- `Corn_(maize)___Cercospora_leaf_spot Gray_leaf_spot` \n",
    "- `Corn_(maize)___Common_rust_` \n",
    "- `Corn_(maize)___Northern_Leaf_Blight` \n",
    "- `Corn_(maize)___healthy', 'Grape___Black_rot` \n",
    "- `Grape___Leaf_blight_(Isariopsis_Leaf_Spot)` \n",
    "- `Grape___healthy` \n",
    "- `Orange___Haunglongbing_(Citrus_greening)` \n",
    "- `Peach___Bacterial_spot` \n",
    "- `Peach___healthy` \n",
    "- `Pepper,_bell___Bacterial_spot` \n",
    "- `Pepper,_bell___healthy` \n",
    "- `Potato___Early_blight` \n",
    "- `Potato___Late_blight` \n",
    "- `Potato___healthy` \n",
    "- `Raspberry___healthy` \n",
    "- `Soybean___healthy` \n",
    "- `Squash___Powdery_mildew` \n",
    "- `Strawberry___Leaf_scorch` \n",
    "- `Strawberry___healthy` \n",
    "- `Tomato___Bacterial_spot` \n",
    "- `Tomato___Late_blight` \n",
    "- `Tomato___Leaf_Mold` \n",
    "- `Tomato___Septoria_leaf_spot` \n",
    "- `Tomato___Spider_mites Two-spotted_spider_mite` \n",
    "- `Tomato___Target_Spot` \n",
    "- `Tomato___Tomato_Yellow_Leaf_Curl_Virus` \n",
    "- `Tomato___Tomato_mosaic_virus` \n",
    "- `Tomato___healthy`\n",
    "\n",
    "## References\n",
    "\n",
    "[1] Hughes, David P., and Marcel Salathe. “An Open Access Repository of Images on Plant Health to Enable the Development of Mobile Disease Diagnostics.” ArXiv:1511.08060 [Cs], Apr. 2016. arXiv.org, http://arxiv.org/abs/1511.08060.\n",
    "\n",
    "[2] Howard, Andrew G., et al. “MobileNets: Efficient Convolutional Neural Networks for Mobile Vision Applications.” ArXiv:1704.04861 [Cs], Apr. 2017. arXiv.org, http://arxiv.org/abs/1704.04861.\n"
   ]
  },
  {
   "cell_type": "markdown",
   "metadata": {},
   "source": [
    "We make the following augmentations to the images:\n",
    "\n",
    "- `width_shift` and `height_shift` are ranges (as a fraction of total width or height) within which to randomly translate pictures vertically or horizontally\n",
    "- `rescale` is a value by which we will multiply the data before any other processing. Our original images consist in RGB coefficients in the 0-255, but such values would be too high for our models to process (given a typical learning rate), so we target values between 0 and 1 instead by scaling with a 1/255. factor.\n",
    "- `shear_range` is for randomly applying shearing transformations\n",
    "- `zoom_range` is for randomly zooming inside pictures\n",
    "- `fill_mode` is the strategy used for filling in newly created pixels, which can appear after a rotation or a width/height shift."
   ]
  },
  {
   "cell_type": "code",
   "execution_count": 4,
   "metadata": {
    "execution": {
     "iopub.execute_input": "2023-03-31T08:31:12.554939Z",
     "iopub.status.busy": "2023-03-31T08:31:12.554274Z",
     "iopub.status.idle": "2023-03-31T08:31:12.565783Z",
     "shell.execute_reply": "2023-03-31T08:31:12.563948Z",
     "shell.execute_reply.started": "2023-03-31T08:31:12.554884Z"
    },
    "trusted": true
   },
   "outputs": [],
   "source": [
    "train_datagen = keras.preprocessing.image.ImageDataGenerator(rescale = 1/255.0,\n",
    "                                                             shear_range = 0.2,\n",
    "                                                             zoom_range = 0.2,\n",
    "                                                             width_shift_range = 0.2,\n",
    "                                                             height_shift_range = 0.2,\n",
    "                                                             fill_mode=\"nearest\")\n",
    "\n",
    "test_datagen = keras.preprocessing.image.ImageDataGenerator(rescale = 1/255.0)"
   ]
  },
  {
   "cell_type": "markdown",
   "metadata": {},
   "source": [
    "Let's prepare our data. We will use `.flow_from_directory()` to generate batches of image data (and their labels) directly from our images in their respective folders."
   ]
  },
  {
   "cell_type": "code",
   "execution_count": 5,
   "metadata": {
    "execution": {
     "iopub.execute_input": "2023-03-31T08:31:12.56797Z",
     "iopub.status.busy": "2023-03-31T08:31:12.567555Z",
     "iopub.status.idle": "2023-03-31T08:32:15.464831Z",
     "shell.execute_reply": "2023-03-31T08:32:15.463371Z",
     "shell.execute_reply.started": "2023-03-31T08:31:12.56793Z"
    },
    "trusted": true
   },
   "outputs": [
    {
     "name": "stdout",
     "output_type": "stream",
     "text": [
      "Found 70727 images belonging to 38 classes.\n",
      "Found 17572 images belonging to 38 classes.\n"
     ]
    }
   ],
   "source": [
    "train_data = train_datagen.flow_from_directory(train_dir,\n",
    "                                               target_size = (image_size, image_size),\n",
    "                                               batch_size = batch_size,\n",
    "                                               class_mode = \"categorical\")\n",
    "\n",
    "test_data = test_datagen.flow_from_directory(test_dir,\n",
    "                                             target_size = (image_size, image_size),\n",
    "                                             batch_size = batch_size,\n",
    "                                             class_mode = \"categorical\")"
   ]
  },
  {
   "cell_type": "markdown",
   "metadata": {},
   "source": [
    "## Create a classes index file\n",
    "\n",
    "We also want to know which class corresponds to which species and disease so we also create a `json` file which shows corresponding labels and class indices."
   ]
  },
  {
   "cell_type": "code",
   "execution_count": 6,
   "metadata": {
    "execution": {
     "iopub.execute_input": "2023-03-31T08:32:15.466899Z",
     "iopub.status.busy": "2023-03-31T08:32:15.466492Z",
     "iopub.status.idle": "2023-03-31T08:32:15.473976Z",
     "shell.execute_reply": "2023-03-31T08:32:15.472221Z",
     "shell.execute_reply.started": "2023-03-31T08:32:15.466857Z"
    },
    "trusted": true
   },
   "outputs": [
    {
     "name": "stdout",
     "output_type": "stream",
     "text": [
      "{'Apple___Apple_scab': 0, 'Apple___Black_rot': 1, 'Apple___Cedar_apple_rust': 2, 'Apple___healthy': 3, 'Blueberry___healthy': 4, 'Cherry_(including_sour)___Powdery_mildew': 5, 'Cherry_(including_sour)___healthy': 6, 'Corn_(maize)___Cercospora_leaf_spot Gray_leaf_spot': 7, 'Corn_(maize)___Common_rust_': 8, 'Corn_(maize)___Northern_Leaf_Blight': 9, 'Corn_(maize)___healthy': 10, 'Grape___Black_rot': 11, 'Grape___Esca_(Black_Measles)': 12, 'Grape___Leaf_blight_(Isariopsis_Leaf_Spot)': 13, 'Grape___healthy': 14, 'Orange___Haunglongbing_(Citrus_greening)': 15, 'Peach___Bacterial_spot': 16, 'Peach___healthy': 17, 'Pepper,_bell___Bacterial_spot': 18, 'Pepper,_bell___healthy': 19, 'Potato___Early_blight': 20, 'Potato___Late_blight': 21, 'Potato___healthy': 22, 'Raspberry___healthy': 23, 'Soybean___healthy': 24, 'Squash___Powdery_mildew': 25, 'Strawberry___Leaf_scorch': 26, 'Strawberry___healthy': 27, 'Tomato___Bacterial_spot': 28, 'Tomato___Early_blight': 29, 'Tomato___Late_blight': 30, 'Tomato___Leaf_Mold': 31, 'Tomato___Septoria_leaf_spot': 32, 'Tomato___Spider_mites Two-spotted_spider_mite': 33, 'Tomato___Target_Spot': 34, 'Tomato___Tomato_Yellow_Leaf_Curl_Virus': 35, 'Tomato___Tomato_mosaic_virus': 36, 'Tomato___healthy': 37}\n"
     ]
    }
   ],
   "source": [
    "categories = list(train_data.class_indices.keys())\n",
    "print(train_data.class_indices)"
   ]
  },
  {
   "cell_type": "code",
   "execution_count": 7,
   "metadata": {
    "execution": {
     "iopub.execute_input": "2023-03-31T08:32:15.476033Z",
     "iopub.status.busy": "2023-03-31T08:32:15.475619Z",
     "iopub.status.idle": "2023-03-31T08:32:15.491173Z",
     "shell.execute_reply": "2023-03-31T08:32:15.489956Z",
     "shell.execute_reply.started": "2023-03-31T08:32:15.475993Z"
    },
    "trusted": true
   },
   "outputs": [
    {
     "data": {
      "text/html": [
       "<a href='class_indices.json' target='_blank'>class_indices.json</a><br>"
      ],
      "text/plain": [
       "c:\\Users\\hp\\Downloads\\Farm doc\\class_indices.json"
      ]
     },
     "execution_count": 7,
     "metadata": {},
     "output_type": "execute_result"
    }
   ],
   "source": [
    "import json\n",
    "with open('class_indices.json','w') as f:\n",
    "  json.dump(train_data.class_indices, f)\n",
    "\n",
    "from IPython.display import FileLink\n",
    "FileLink(r'class_indices.json')"
   ]
  },
  {
   "cell_type": "markdown",
   "metadata": {},
   "source": [
    "## Training\n",
    "\n",
    "We first get the base MobileNet model without including the top layers since we want to use it for 38 classes and us the pre-trained weights for ImageNet."
   ]
  },
  {
   "cell_type": "code",
   "execution_count": 8,
   "metadata": {
    "execution": {
     "iopub.execute_input": "2023-03-31T08:32:15.494089Z",
     "iopub.status.busy": "2023-03-31T08:32:15.492822Z",
     "iopub.status.idle": "2023-03-31T08:32:18.080349Z",
     "shell.execute_reply": "2023-03-31T08:32:18.078583Z",
     "shell.execute_reply.started": "2023-03-31T08:32:15.494049Z"
    },
    "trusted": true
   },
   "outputs": [],
   "source": [
    "base_model = tf.keras.applications.MobileNet(weights = \"imagenet\",\n",
    "                                             include_top = False,\n",
    "                                             input_shape = input_shape)\n",
    "\n",
    "base_model.trainable = False"
   ]
  },
  {
   "cell_type": "markdown",
   "metadata": {},
   "source": [
    "We now create a small upstream model on top of the MobileNet using the functional API"
   ]
  },
  {
   "cell_type": "code",
   "execution_count": 9,
   "metadata": {
    "execution": {
     "iopub.execute_input": "2023-03-31T08:32:18.083467Z",
     "iopub.status.busy": "2023-03-31T08:32:18.082844Z",
     "iopub.status.idle": "2023-03-31T08:32:18.430681Z",
     "shell.execute_reply": "2023-03-31T08:32:18.429519Z",
     "shell.execute_reply.started": "2023-03-31T08:32:18.0834Z"
    },
    "trusted": true
   },
   "outputs": [],
   "source": [
    "inputs = keras.Input(shape = input_shape)\n",
    "\n",
    "x = base_model(inputs, training = False)\n",
    "x = tf.keras.layers.GlobalAveragePooling2D()(x)\n",
    "x = tf.keras.layers.Dropout(0.2)(x)\n",
    "x = tf.keras.layers.Dense(len(categories), \n",
    "                          activation=\"softmax\")(x)\n",
    "\n",
    "model = keras.Model(inputs = inputs, \n",
    "                    outputs = x, \n",
    "                    name=\"LeafDisease_MobileNet\")"
   ]
  },
  {
   "cell_type": "markdown",
   "metadata": {},
   "source": [
    "In our multiple experiments we found out Adam optimizer to work really well with it's default learning rate, $\\beta_1$, $\\beta_2$ and $\\epsilon$ values"
   ]
  },
  {
   "cell_type": "code",
   "execution_count": 10,
   "metadata": {
    "execution": {
     "iopub.execute_input": "2023-03-31T08:32:18.438339Z",
     "iopub.status.busy": "2023-03-31T08:32:18.436873Z",
     "iopub.status.idle": "2023-03-31T08:32:18.471412Z",
     "shell.execute_reply": "2023-03-31T08:32:18.469986Z",
     "shell.execute_reply.started": "2023-03-31T08:32:18.438249Z"
    },
    "trusted": true
   },
   "outputs": [],
   "source": [
    "optimizer = tf.keras.optimizers.Adam()\n",
    "\n",
    "model.compile(optimizer = optimizer,\n",
    "              loss = tf.keras.losses.CategoricalCrossentropy(from_logits = True),\n",
    "              metrics=[keras.metrics.CategoricalAccuracy(), \n",
    "                       'accuracy'])"
   ]
  },
  {
   "cell_type": "code",
   "execution_count": 11,
   "metadata": {
    "execution": {
     "iopub.execute_input": "2023-03-31T08:32:18.473416Z",
     "iopub.status.busy": "2023-03-31T08:32:18.472996Z"
    },
    "trusted": true
   },
   "outputs": [
    {
     "name": "stderr",
     "output_type": "stream",
     "text": [
      "c:\\Anaconda\\Lib\\site-packages\\keras\\src\\trainers\\data_adapters\\py_dataset_adapter.py:121: UserWarning: Your `PyDataset` class should call `super().__init__(**kwargs)` in its constructor. `**kwargs` can include `workers`, `use_multiprocessing`, `max_queue_size`. Do not pass these arguments to `fit()`, as they will be ignored.\n",
      "  self._warn_if_super_not_called()\n"
     ]
    },
    {
     "name": "stdout",
     "output_type": "stream",
     "text": [
      "Epoch 1/25\n"
     ]
    },
    {
     "name": "stderr",
     "output_type": "stream",
     "text": [
      "c:\\Anaconda\\Lib\\site-packages\\keras\\src\\backend\\tensorflow\\nn.py:636: UserWarning: \"`categorical_crossentropy` received `from_logits=True`, but the `output` argument was produced by a Softmax activation and thus does not represent logits. Was this intended?\n",
      "  output, from_logits = _get_logits(\n"
     ]
    },
    {
     "name": "stdout",
     "output_type": "stream",
     "text": [
      "\u001b[1m150/150\u001b[0m \u001b[32m━━━━━━━━━━━━━━━━━━━━\u001b[0m\u001b[37m\u001b[0m \u001b[1m0s\u001b[0m 1s/step - accuracy: 0.2642 - categorical_accuracy: 0.2642 - loss: 2.9351"
     ]
    },
    {
     "name": "stderr",
     "output_type": "stream",
     "text": [
      "c:\\Anaconda\\Lib\\site-packages\\keras\\src\\trainers\\data_adapters\\py_dataset_adapter.py:121: UserWarning: Your `PyDataset` class should call `super().__init__(**kwargs)` in its constructor. `**kwargs` can include `workers`, `use_multiprocessing`, `max_queue_size`. Do not pass these arguments to `fit()`, as they will be ignored.\n",
      "  self._warn_if_super_not_called()\n"
     ]
    },
    {
     "name": "stdout",
     "output_type": "stream",
     "text": [
      "\u001b[1m150/150\u001b[0m \u001b[32m━━━━━━━━━━━━━━━━━━━━\u001b[0m\u001b[37m\u001b[0m \u001b[1m316s\u001b[0m 2s/step - accuracy: 0.2656 - categorical_accuracy: 0.2656 - loss: 2.9291 - val_accuracy: 0.7844 - val_categorical_accuracy: 0.7844 - val_loss: 0.8194\n",
      "Epoch 2/25\n",
      "\u001b[1m150/150\u001b[0m \u001b[32m━━━━━━━━━━━━━━━━━━━━\u001b[0m\u001b[37m\u001b[0m \u001b[1m267s\u001b[0m 2s/step - accuracy: 0.7575 - categorical_accuracy: 0.7575 - loss: 0.8781 - val_accuracy: 0.8684 - val_categorical_accuracy: 0.8684 - val_loss: 0.4884\n",
      "Epoch 3/25\n",
      "\u001b[1m150/150\u001b[0m \u001b[32m━━━━━━━━━━━━━━━━━━━━\u001b[0m\u001b[37m\u001b[0m \u001b[1m246s\u001b[0m 2s/step - accuracy: 0.8383 - categorical_accuracy: 0.8383 - loss: 0.5733 - val_accuracy: 0.8850 - val_categorical_accuracy: 0.8850 - val_loss: 0.4076\n",
      "Epoch 4/25\n",
      "\u001b[1m150/150\u001b[0m \u001b[32m━━━━━━━━━━━━━━━━━━━━\u001b[0m\u001b[37m\u001b[0m \u001b[1m261s\u001b[0m 2s/step - accuracy: 0.8521 - categorical_accuracy: 0.8521 - loss: 0.4705 - val_accuracy: 0.9034 - val_categorical_accuracy: 0.9034 - val_loss: 0.3275\n",
      "Epoch 5/25\n",
      "\u001b[1m150/150\u001b[0m \u001b[32m━━━━━━━━━━━━━━━━━━━━\u001b[0m\u001b[37m\u001b[0m \u001b[1m259s\u001b[0m 2s/step - accuracy: 0.8750 - categorical_accuracy: 0.8750 - loss: 0.4103 - val_accuracy: 0.8994 - val_categorical_accuracy: 0.8994 - val_loss: 0.3147\n",
      "Epoch 6/25\n",
      "\u001b[1m150/150\u001b[0m \u001b[32m━━━━━━━━━━━━━━━━━━━━\u001b[0m\u001b[37m\u001b[0m \u001b[1m220s\u001b[0m 1s/step - accuracy: 0.8853 - categorical_accuracy: 0.8853 - loss: 0.3656 - val_accuracy: 0.9162 - val_categorical_accuracy: 0.9162 - val_loss: 0.2676\n",
      "Epoch 7/25\n",
      "\u001b[1m150/150\u001b[0m \u001b[32m━━━━━━━━━━━━━━━━━━━━\u001b[0m\u001b[37m\u001b[0m \u001b[1m191s\u001b[0m 1s/step - accuracy: 0.8883 - categorical_accuracy: 0.8883 - loss: 0.3554 - val_accuracy: 0.9081 - val_categorical_accuracy: 0.9081 - val_loss: 0.2791\n",
      "Epoch 8/25\n",
      "\u001b[1m150/150\u001b[0m \u001b[32m━━━━━━━━━━━━━━━━━━━━\u001b[0m\u001b[37m\u001b[0m \u001b[1m203s\u001b[0m 1s/step - accuracy: 0.8963 - categorical_accuracy: 0.8963 - loss: 0.3417 - val_accuracy: 0.9234 - val_categorical_accuracy: 0.9234 - val_loss: 0.2539\n",
      "Epoch 9/25\n",
      "\u001b[1m150/150\u001b[0m \u001b[32m━━━━━━━━━━━━━━━━━━━━\u001b[0m\u001b[37m\u001b[0m \u001b[1m194s\u001b[0m 1s/step - accuracy: 0.9066 - categorical_accuracy: 0.9066 - loss: 0.3068 - val_accuracy: 0.9278 - val_categorical_accuracy: 0.9278 - val_loss: 0.2116\n",
      "Epoch 10/25\n",
      "\u001b[1m150/150\u001b[0m \u001b[32m━━━━━━━━━━━━━━━━━━━━\u001b[0m\u001b[37m\u001b[0m \u001b[1m202s\u001b[0m 1s/step - accuracy: 0.9101 - categorical_accuracy: 0.9101 - loss: 0.2859 - val_accuracy: 0.9344 - val_categorical_accuracy: 0.9344 - val_loss: 0.2138\n",
      "Epoch 11/25\n",
      "\u001b[1m150/150\u001b[0m \u001b[32m━━━━━━━━━━━━━━━━━━━━\u001b[0m\u001b[37m\u001b[0m \u001b[1m189s\u001b[0m 1s/step - accuracy: 0.9089 - categorical_accuracy: 0.9089 - loss: 0.2848 - val_accuracy: 0.9331 - val_categorical_accuracy: 0.9331 - val_loss: 0.2175\n",
      "Epoch 12/25\n",
      "\u001b[1m150/150\u001b[0m \u001b[32m━━━━━━━━━━━━━━━━━━━━\u001b[0m\u001b[37m\u001b[0m \u001b[1m191s\u001b[0m 1s/step - accuracy: 0.9079 - categorical_accuracy: 0.9079 - loss: 0.2757 - val_accuracy: 0.9394 - val_categorical_accuracy: 0.9394 - val_loss: 0.1928\n",
      "Epoch 13/25\n",
      "\u001b[1m150/150\u001b[0m \u001b[32m━━━━━━━━━━━━━━━━━━━━\u001b[0m\u001b[37m\u001b[0m \u001b[1m400s\u001b[0m 3s/step - accuracy: 0.9129 - categorical_accuracy: 0.9129 - loss: 0.2488 - val_accuracy: 0.9275 - val_categorical_accuracy: 0.9275 - val_loss: 0.2116\n",
      "Epoch 14/25\n",
      "\u001b[1m150/150\u001b[0m \u001b[32m━━━━━━━━━━━━━━━━━━━━\u001b[0m\u001b[37m\u001b[0m \u001b[1m239s\u001b[0m 2s/step - accuracy: 0.9181 - categorical_accuracy: 0.9181 - loss: 0.2555 - val_accuracy: 0.9328 - val_categorical_accuracy: 0.9328 - val_loss: 0.1935\n",
      "Epoch 15/25\n",
      "\u001b[1m111/150\u001b[0m \u001b[32m━━━━━━━━━━━━━━\u001b[0m\u001b[37m━━━━━━\u001b[0m \u001b[1m35s\u001b[0m 907ms/step - accuracy: 0.9195 - categorical_accuracy: 0.9195 - loss: 0.2435"
     ]
    },
    {
     "name": "stderr",
     "output_type": "stream",
     "text": [
      "c:\\Anaconda\\Lib\\site-packages\\keras\\src\\trainers\\epoch_iterator.py:107: UserWarning: Your input ran out of data; interrupting training. Make sure that your dataset or generator can generate at least `steps_per_epoch * epochs` batches. You may need to use the `.repeat()` function when building your dataset.\n",
      "  self._interrupted_warning()\n"
     ]
    },
    {
     "name": "stdout",
     "output_type": "stream",
     "text": [
      "\u001b[1m150/150\u001b[0m \u001b[32m━━━━━━━━━━━━━━━━━━━━\u001b[0m\u001b[37m\u001b[0m \u001b[1m163s\u001b[0m 1s/step - accuracy: 0.9199 - categorical_accuracy: 0.9199 - loss: 0.2433 - val_accuracy: 0.9225 - val_categorical_accuracy: 0.9225 - val_loss: 0.2113\n",
      "Epoch 16/25\n",
      "\u001b[1m150/150\u001b[0m \u001b[32m━━━━━━━━━━━━━━━━━━━━\u001b[0m\u001b[37m\u001b[0m \u001b[1m219s\u001b[0m 1s/step - accuracy: 0.9275 - categorical_accuracy: 0.9275 - loss: 0.2140 - val_accuracy: 0.9403 - val_categorical_accuracy: 0.9403 - val_loss: 0.1686\n",
      "Epoch 17/25\n",
      "\u001b[1m150/150\u001b[0m \u001b[32m━━━━━━━━━━━━━━━━━━━━\u001b[0m\u001b[37m\u001b[0m \u001b[1m199s\u001b[0m 1s/step - accuracy: 0.9274 - categorical_accuracy: 0.9274 - loss: 0.2299 - val_accuracy: 0.9428 - val_categorical_accuracy: 0.9428 - val_loss: 0.1700\n",
      "Epoch 18/25\n",
      "\u001b[1m150/150\u001b[0m \u001b[32m━━━━━━━━━━━━━━━━━━━━\u001b[0m\u001b[37m\u001b[0m \u001b[1m213s\u001b[0m 1s/step - accuracy: 0.9320 - categorical_accuracy: 0.9320 - loss: 0.2197 - val_accuracy: 0.9391 - val_categorical_accuracy: 0.9391 - val_loss: 0.1915\n",
      "Epoch 19/25\n",
      "\u001b[1m150/150\u001b[0m \u001b[32m━━━━━━━━━━━━━━━━━━━━\u001b[0m\u001b[37m\u001b[0m \u001b[1m195s\u001b[0m 1s/step - accuracy: 0.9301 - categorical_accuracy: 0.9301 - loss: 0.2282 - val_accuracy: 0.9466 - val_categorical_accuracy: 0.9466 - val_loss: 0.1612\n",
      "Epoch 20/25\n",
      "\u001b[1m150/150\u001b[0m \u001b[32m━━━━━━━━━━━━━━━━━━━━\u001b[0m\u001b[37m\u001b[0m \u001b[1m224s\u001b[0m 2s/step - accuracy: 0.9290 - categorical_accuracy: 0.9290 - loss: 0.2120 - val_accuracy: 0.9378 - val_categorical_accuracy: 0.9378 - val_loss: 0.1913\n",
      "Epoch 21/25\n",
      "\u001b[1m150/150\u001b[0m \u001b[32m━━━━━━━━━━━━━━━━━━━━\u001b[0m\u001b[37m\u001b[0m \u001b[1m244s\u001b[0m 2s/step - accuracy: 0.9363 - categorical_accuracy: 0.9363 - loss: 0.1956 - val_accuracy: 0.9416 - val_categorical_accuracy: 0.9416 - val_loss: 0.1763\n",
      "Epoch 22/25\n",
      "\u001b[1m150/150\u001b[0m \u001b[32m━━━━━━━━━━━━━━━━━━━━\u001b[0m\u001b[37m\u001b[0m \u001b[1m234s\u001b[0m 2s/step - accuracy: 0.9292 - categorical_accuracy: 0.9292 - loss: 0.1994 - val_accuracy: 0.9459 - val_categorical_accuracy: 0.9459 - val_loss: 0.1608\n",
      "Epoch 23/25\n",
      "\u001b[1m150/150\u001b[0m \u001b[32m━━━━━━━━━━━━━━━━━━━━\u001b[0m\u001b[37m\u001b[0m \u001b[1m195s\u001b[0m 1s/step - accuracy: 0.9284 - categorical_accuracy: 0.9284 - loss: 0.2270 - val_accuracy: 0.9459 - val_categorical_accuracy: 0.9459 - val_loss: 0.1620\n",
      "Epoch 24/25\n",
      "\u001b[1m150/150\u001b[0m \u001b[32m━━━━━━━━━━━━━━━━━━━━\u001b[0m\u001b[37m\u001b[0m \u001b[1m200s\u001b[0m 1s/step - accuracy: 0.9298 - categorical_accuracy: 0.9298 - loss: 0.2192 - val_accuracy: 0.9469 - val_categorical_accuracy: 0.9469 - val_loss: 0.1460\n",
      "Epoch 25/25\n",
      "\u001b[1m150/150\u001b[0m \u001b[32m━━━━━━━━━━━━━━━━━━━━\u001b[0m\u001b[37m\u001b[0m \u001b[1m245s\u001b[0m 2s/step - accuracy: 0.9347 - categorical_accuracy: 0.9347 - loss: 0.1894 - val_accuracy: 0.9494 - val_categorical_accuracy: 0.9494 - val_loss: 0.1508\n"
     ]
    }
   ],
   "source": [
    "history = model.fit(train_data,\n",
    "                    validation_data=test_data,\n",
    "                    epochs=epochs,\n",
    "                    steps_per_epoch=150,\n",
    "                    validation_steps=100)"
   ]
  },
  {
   "cell_type": "markdown",
   "metadata": {},
   "source": [
    "## Review the training process"
   ]
  },
  {
   "cell_type": "code",
   "execution_count": 12,
   "metadata": {},
   "outputs": [
    {
     "data": {
      "text/plain": [
       "<matplotlib.legend.Legend at 0x23bdd26e710>"
      ]
     },
     "execution_count": 12,
     "metadata": {},
     "output_type": "execute_result"
    },
    {
     "data": {
      "image/png": "[encoded data removed]",
      "text/plain": [
       "<Figure size 1000x600 with 1 Axes>"
      ]
     },
     "metadata": {},
     "output_type": "display_data"
    }
   ],
   "source": [
    "loss = history.history['loss']\n",
    "val_loss = history.history['val_loss']\n",
    "\n",
    "epochs = range(len(loss))\n",
    "\n",
    "fig = plt.figure(figsize=(10,6))\n",
    "plt.plot(epochs,loss,c=\"red\",label=\"Training\")\n",
    "plt.plot(epochs,val_loss,c=\"blue\",label=\"Validation\")\n",
    "plt.xlabel(\"Epochs\")\n",
    "plt.ylabel(\"Loss\")\n",
    "plt.legend()"
   ]
  },
  {
   "cell_type": "code",
   "execution_count": 13,
   "metadata": {},
   "outputs": [
    {
     "data": {
      "text/plain": [
       "<matplotlib.legend.Legend at 0x23b803da9d0>"
      ]
     },
     "execution_count": 13,
     "metadata": {},
     "output_type": "execute_result"
    },
    {
     "data": {
      "image/png": "[encoded data removed]",
      "text/plain": [
       "<Figure size 1000x600 with 1 Axes>"
      ]
     },
     "metadata": {},
     "output_type": "display_data"
    }
   ],
   "source": [
    "acc = history.history['categorical_accuracy']\n",
    "val_acc = history.history['val_categorical_accuracy']\n",
    "\n",
    "epochs = range(len(acc))\n",
    "\n",
    "fig = plt.figure(figsize=(10,6))\n",
    "plt.plot(epochs,acc,c=\"red\",label=\"Training\")\n",
    "plt.plot(epochs,val_acc,c=\"blue\",label=\"Validation\")\n",
    "plt.xlabel(\"Epochs\")\n",
    "plt.ylabel(\"Accuracy\")\n",
    "plt.legend()"
   ]
  },
  {
   "cell_type": "markdown",
   "metadata": {},
   "source": [
    "## Save the model\n",
    "We finally save the model in the standard TensorFlow 2 SavedModel format."
   ]
  },
  {
   "cell_type": "code",
   "execution_count": 14,
   "metadata": {},
   "outputs": [],
   "source": [
    "model.save('plant_disease.keras')"
   ]
  },
  {
   "cell_type": "markdown",
   "metadata": {},
   "source": [
    "## Converting to tflite Model"
   ]
  },
  {
   "cell_type": "code",
   "execution_count": null,
   "metadata": {},
   "outputs": [
    {
     "name": "stdout",
     "output_type": "stream",
     "text": [
      "INFO:tensorflow:Assets written to: C:\\Users\\hp\\AppData\\Local\\Temp\\tmpb1d1s18_\\assets\n"
     ]
    },
    {
     "name": "stderr",
     "output_type": "stream",
     "text": [
      "INFO:tensorflow:Assets written to: C:\\Users\\hp\\AppData\\Local\\Temp\\tmpb1d1s18_\\assets\n"
     ]
    },
    {
     "name": "stdout",
     "output_type": "stream",
     "text": [
      "Saved artifact at 'C:\\Users\\hp\\AppData\\Local\\Temp\\tmpb1d1s18_'. The following endpoints are available:\n",
      "\n",
      "* Endpoint 'serve'\n",
      "  args_0 (POSITIONAL_ONLY): TensorSpec(shape=(None, 224, 224, 3), dtype=tf.float32, name='keras_tensor_86')\n",
      "Output Type:\n",
      "  TensorSpec(shape=(None, 38), dtype=tf.float32, name=None)\n",
      "Captures:\n",
      "  2455969882832: TensorSpec(shape=(), dtype=tf.resource, name=None)\n",
      "  2455969885136: TensorSpec(shape=(), dtype=tf.resource, name=None)\n",
      "  2455969884560: TensorSpec(shape=(), dtype=tf.resource, name=None)\n",
      "  2455969884752: TensorSpec(shape=(), dtype=tf.resource, name=None)\n",
      "  2455969885520: TensorSpec(shape=(), dtype=tf.resource, name=None)\n",
      "  2455969885712: TensorSpec(shape=(), dtype=tf.resource, name=None)\n",
      "  2455969886480: TensorSpec(shape=(), dtype=tf.resource, name=None)\n",
      "  2455969883984: TensorSpec(shape=(), dtype=tf.resource, name=None)\n",
      "  2455969883408: TensorSpec(shape=(), dtype=tf.resource, name=None)\n",
      "  2455969886096: TensorSpec(shape=(), dtype=tf.resource, name=None)\n",
      "  2455969886288: TensorSpec(shape=(), dtype=tf.resource, name=None)\n",
      "  2455969884176: TensorSpec(shape=(), dtype=tf.resource, name=None)\n",
      "  2455969884944: TensorSpec(shape=(), dtype=tf.resource, name=None)\n",
      "  2455969887824: TensorSpec(shape=(), dtype=tf.resource, name=None)\n",
      "  2455969887440: TensorSpec(shape=(), dtype=tf.resource, name=None)\n",
      "  2455970283984: TensorSpec(shape=(), dtype=tf.resource, name=None)\n",
      "  2455970285328: TensorSpec(shape=(), dtype=tf.resource, name=None)\n",
      "  2455970285520: TensorSpec(shape=(), dtype=tf.resource, name=None)\n",
      "  2455970285136: TensorSpec(shape=(), dtype=tf.resource, name=None)\n",
      "  2455970284560: TensorSpec(shape=(), dtype=tf.resource, name=None)\n",
      "  2455970285904: TensorSpec(shape=(), dtype=tf.resource, name=None)\n",
      "  2455970286864: TensorSpec(shape=(), dtype=tf.resource, name=None)\n",
      "  2455970286672: TensorSpec(shape=(), dtype=tf.resource, name=None)\n",
      "  2455970284752: TensorSpec(shape=(), dtype=tf.resource, name=None)\n",
      "  2455970284368: TensorSpec(shape=(), dtype=tf.resource, name=None)\n",
      "  2455970288208: TensorSpec(shape=(), dtype=tf.resource, name=None)\n",
      "  2455970289552: TensorSpec(shape=(), dtype=tf.resource, name=None)\n",
      "  2455970289744: TensorSpec(shape=(), dtype=tf.resource, name=None)\n",
      "  2455970289360: TensorSpec(shape=(), dtype=tf.resource, name=None)\n",
      "  2455970288592: TensorSpec(shape=(), dtype=tf.resource, name=None)\n",
      "  2455970290128: TensorSpec(shape=(), dtype=tf.resource, name=None)\n",
      "  2455970291472: TensorSpec(shape=(), dtype=tf.resource, name=None)\n",
      "  2455970291664: TensorSpec(shape=(), dtype=tf.resource, name=None)\n",
      "  2455970291280: TensorSpec(shape=(), dtype=tf.resource, name=None)\n",
      "  2455970290512: TensorSpec(shape=(), dtype=tf.resource, name=None)\n",
      "  2455970292048: TensorSpec(shape=(), dtype=tf.resource, name=None)\n",
      "  2455970293392: TensorSpec(shape=(), dtype=tf.resource, name=None)\n",
      "  2455970293584: TensorSpec(shape=(), dtype=tf.resource, name=None)\n",
      "  2455970293200: TensorSpec(shape=(), dtype=tf.resource, name=None)\n",
      "  2455970292432: TensorSpec(shape=(), dtype=tf.resource, name=None)\n",
      "  2455970292816: TensorSpec(shape=(), dtype=tf.resource, name=None)\n",
      "  2455970295504: TensorSpec(shape=(), dtype=tf.resource, name=None)\n",
      "  2455970295696: TensorSpec(shape=(), dtype=tf.resource, name=None)\n",
      "  2455970295312: TensorSpec(shape=(), dtype=tf.resource, name=None)\n",
      "  2455970287824: TensorSpec(shape=(), dtype=tf.resource, name=None)\n",
      "  2455970293968: TensorSpec(shape=(), dtype=tf.resource, name=None)\n",
      "  2455970297616: TensorSpec(shape=(), dtype=tf.resource, name=None)\n",
      "  2455970297808: TensorSpec(shape=(), dtype=tf.resource, name=None)\n",
      "  2455970297424: TensorSpec(shape=(), dtype=tf.resource, name=None)\n",
      "  2455970294928: TensorSpec(shape=(), dtype=tf.resource, name=None)\n",
      "  2455970298192: TensorSpec(shape=(), dtype=tf.resource, name=None)\n",
      "  2455970299536: TensorSpec(shape=(), dtype=tf.resource, name=None)\n",
      "  2455970298960: TensorSpec(shape=(), dtype=tf.resource, name=None)\n",
      "  2455970299344: TensorSpec(shape=(), dtype=tf.resource, name=None)\n",
      "  2455970298576: TensorSpec(shape=(), dtype=tf.resource, name=None)\n",
      "  2455970840848: TensorSpec(shape=(), dtype=tf.resource, name=None)\n",
      "  2455970842192: TensorSpec(shape=(), dtype=tf.resource, name=None)\n",
      "  2455970842384: TensorSpec(shape=(), dtype=tf.resource, name=None)\n",
      "  2455970842000: TensorSpec(shape=(), dtype=tf.resource, name=None)\n",
      "  2455970841424: TensorSpec(shape=(), dtype=tf.resource, name=None)\n",
      "  2455970842768: TensorSpec(shape=(), dtype=tf.resource, name=None)\n",
      "  2455970844112: TensorSpec(shape=(), dtype=tf.resource, name=None)\n",
      "  2455970844304: TensorSpec(shape=(), dtype=tf.resource, name=None)\n",
      "  2455970843920: TensorSpec(shape=(), dtype=tf.resource, name=None)\n",
      "  2455970843152: TensorSpec(shape=(), dtype=tf.resource, name=None)\n",
      "  2455970844688: TensorSpec(shape=(), dtype=tf.resource, name=None)\n",
      "  2455970846032: TensorSpec(shape=(), dtype=tf.resource, name=None)\n",
      "  2455970846224: TensorSpec(shape=(), dtype=tf.resource, name=None)\n",
      "  2455970845840: TensorSpec(shape=(), dtype=tf.resource, name=None)\n",
      "  2455970845072: TensorSpec(shape=(), dtype=tf.resource, name=None)\n",
      "  2455970846608: TensorSpec(shape=(), dtype=tf.resource, name=None)\n",
      "  2455970847952: TensorSpec(shape=(), dtype=tf.resource, name=None)\n",
      "  2455970848144: TensorSpec(shape=(), dtype=tf.resource, name=None)\n",
      "  2455970847760: TensorSpec(shape=(), dtype=tf.resource, name=None)\n",
      "  2455970846992: TensorSpec(shape=(), dtype=tf.resource, name=None)\n",
      "  2455970848528: TensorSpec(shape=(), dtype=tf.resource, name=None)\n",
      "  2455970849872: TensorSpec(shape=(), dtype=tf.resource, name=None)\n",
      "  2455970850064: TensorSpec(shape=(), dtype=tf.resource, name=None)\n",
      "  2455970849680: TensorSpec(shape=(), dtype=tf.resource, name=None)\n",
      "  2455970848912: TensorSpec(shape=(), dtype=tf.resource, name=None)\n",
      "  2455970850448: TensorSpec(shape=(), dtype=tf.resource, name=None)\n",
      "  2455970851792: TensorSpec(shape=(), dtype=tf.resource, name=None)\n",
      "  2455970851984: TensorSpec(shape=(), dtype=tf.resource, name=None)\n",
      "  2455970851600: TensorSpec(shape=(), dtype=tf.resource, name=None)\n",
      "  2455970850832: TensorSpec(shape=(), dtype=tf.resource, name=None)\n",
      "  2455970852368: TensorSpec(shape=(), dtype=tf.resource, name=None)\n",
      "  2455970853712: TensorSpec(shape=(), dtype=tf.resource, name=None)\n",
      "  2455970853904: TensorSpec(shape=(), dtype=tf.resource, name=None)\n",
      "  2455970853520: TensorSpec(shape=(), dtype=tf.resource, name=None)\n",
      "  2455970852752: TensorSpec(shape=(), dtype=tf.resource, name=None)\n",
      "  2455970854288: TensorSpec(shape=(), dtype=tf.resource, name=None)\n",
      "  2455970855632: TensorSpec(shape=(), dtype=tf.resource, name=None)\n",
      "  2455970855824: TensorSpec(shape=(), dtype=tf.resource, name=None)\n",
      "  2455970855440: TensorSpec(shape=(), dtype=tf.resource, name=None)\n",
      "  2455970854672: TensorSpec(shape=(), dtype=tf.resource, name=None)\n",
      "  2455970855056: TensorSpec(shape=(), dtype=tf.resource, name=None)\n",
      "  2455971366096: TensorSpec(shape=(), dtype=tf.resource, name=None)\n",
      "  2455971365328: TensorSpec(shape=(), dtype=tf.resource, name=None)\n",
      "  2455970856592: TensorSpec(shape=(), dtype=tf.resource, name=None)\n",
      "  2455970856208: TensorSpec(shape=(), dtype=tf.resource, name=None)\n",
      "  2455971365136: TensorSpec(shape=(), dtype=tf.resource, name=None)\n",
      "  2455971367440: TensorSpec(shape=(), dtype=tf.resource, name=None)\n",
      "  2455971367632: TensorSpec(shape=(), dtype=tf.resource, name=None)\n",
      "  2455971367248: TensorSpec(shape=(), dtype=tf.resource, name=None)\n",
      "  2455971366480: TensorSpec(shape=(), dtype=tf.resource, name=None)\n",
      "  2455971368016: TensorSpec(shape=(), dtype=tf.resource, name=None)\n",
      "  2455971369360: TensorSpec(shape=(), dtype=tf.resource, name=None)\n",
      "  2455971369552: TensorSpec(shape=(), dtype=tf.resource, name=None)\n",
      "  2455971369168: TensorSpec(shape=(), dtype=tf.resource, name=None)\n",
      "  2455971368400: TensorSpec(shape=(), dtype=tf.resource, name=None)\n",
      "  2455971369936: TensorSpec(shape=(), dtype=tf.resource, name=None)\n",
      "  2455971371280: TensorSpec(shape=(), dtype=tf.resource, name=None)\n",
      "  2455971371472: TensorSpec(shape=(), dtype=tf.resource, name=None)\n",
      "  2455971371088: TensorSpec(shape=(), dtype=tf.resource, name=None)\n",
      "  2455971370320: TensorSpec(shape=(), dtype=tf.resource, name=None)\n",
      "  2455971371856: TensorSpec(shape=(), dtype=tf.resource, name=None)\n",
      "  2455971373200: TensorSpec(shape=(), dtype=tf.resource, name=None)\n",
      "  2455971373392: TensorSpec(shape=(), dtype=tf.resource, name=None)\n",
      "  2455971373008: TensorSpec(shape=(), dtype=tf.resource, name=None)\n",
      "  2455971372240: TensorSpec(shape=(), dtype=tf.resource, name=None)\n",
      "  2455971373776: TensorSpec(shape=(), dtype=tf.resource, name=None)\n",
      "  2455971375120: TensorSpec(shape=(), dtype=tf.resource, name=None)\n",
      "  2455971375312: TensorSpec(shape=(), dtype=tf.resource, name=None)\n",
      "  2455971374928: TensorSpec(shape=(), dtype=tf.resource, name=None)\n",
      "  2455971374160: TensorSpec(shape=(), dtype=tf.resource, name=None)\n",
      "  2455971375696: TensorSpec(shape=(), dtype=tf.resource, name=None)\n",
      "  2455971377040: TensorSpec(shape=(), dtype=tf.resource, name=None)\n",
      "  2455971377232: TensorSpec(shape=(), dtype=tf.resource, name=None)\n",
      "  2455971376848: TensorSpec(shape=(), dtype=tf.resource, name=None)\n",
      "  2455971376080: TensorSpec(shape=(), dtype=tf.resource, name=None)\n",
      "  2455971377616: TensorSpec(shape=(), dtype=tf.resource, name=None)\n",
      "  2455971378960: TensorSpec(shape=(), dtype=tf.resource, name=None)\n",
      "  2455971379152: TensorSpec(shape=(), dtype=tf.resource, name=None)\n",
      "  2455971378768: TensorSpec(shape=(), dtype=tf.resource, name=None)\n",
      "  2455971378000: TensorSpec(shape=(), dtype=tf.resource, name=None)\n",
      "  2455971380496: TensorSpec(shape=(), dtype=tf.resource, name=None)\n",
      "  2455971365712: TensorSpec(shape=(), dtype=tf.resource, name=None)\n"
     ]
    },
    {
     "ename": "",
     "evalue": "",
     "output_type": "error",
     "traceback": [
      "\u001b[1;31mThe Kernel crashed while executing code in the current cell or a previous cell. \n",
      "\u001b[1;31mPlease review the code in the cell(s) to identify a possible cause of the failure. \n",
      "\u001b[1;31mClick <a href='https://aka.ms/vscodeJupyterKernelCrash'>here</a> for more info. \n",
      "\u001b[1;31mView Jupyter <a href='command:jupyter.viewOutput'>log</a> for further details."
     ]
    }
   ],
   "source": [
    "import tensorflow as tf\n",
    "\n",
    "# Convert the model\n",
    "converter = tf.lite.TFLiteConverter.from_keras_model(model)\n",
    "tflite_model = converter.convert()\n",
    "\n",
    "# Save the TFLite model\n",
    "with open('model.tflite', 'wb') as f:\n",
    "    f.write(tflite_model)"
   ]
  }
 ],
 "metadata": {
  "kaggle": {
   "accelerator": "none",
   "dataSources": [
    {
     "datasetId": 78313,
     "sourceId": 182633,
     "sourceType": "datasetVersion"
    }
   ],
   "dockerImageVersionId": 30445,
   "isGpuEnabled": false,
   "isInternetEnabled": false,
   "language": "python",
   "sourceType": "notebook"
  },
  "kernelspec": {
   "display_name": "base",
   "language": "python",
   "name": "python3"
  },
  "language_info": {
   "codemirror_mode": {
    "name": "ipython",
    "version": 3
   },
   "file_extension": ".py",
   "mimetype": "text/x-python",
   "name": "python",
   "nbconvert_exporter": "python",
   "pygments_lexer": "ipython3",
   "version": "3.11.7"
  }
 },
 "nbformat": 4,
 "nbformat_minor": 4
}
